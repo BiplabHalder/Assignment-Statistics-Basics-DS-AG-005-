{
  "nbformat": 4,
  "nbformat_minor": 0,
  "metadata": {
    "colab": {
      "provenance": []
    },
    "kernelspec": {
      "name": "python3",
      "display_name": "Python 3"
    },
    "language_info": {
      "name": "python"
    }
  },
  "cells": [
    {
      "cell_type": "code",
      "execution_count": null,
      "metadata": {
        "id": "ZyXF8DvqyCZp"
      },
      "outputs": [],
      "source": []
    },
    {
      "cell_type": "markdown",
      "source": [
        "# 📊 Statistics Assignment\n",
        "\n",
        "## ✅ Question 1: What is the difference between descriptive statistics and inferential statistics? Explain with examples.\n",
        "##Answer:\n",
        "### Descriptive Statistics:\n",
        "Descriptive statistics summarize or describe the main features of a dataset.\n",
        "\n",
        "**Examples:**\n",
        "- Mean, median, mode\n",
        "- Standard deviation\n",
        "- Frequency tables\n",
        "- Charts and graphs (histograms, pie charts)\n",
        "\n",
        "**Example in Python:**\n",
        "```python\n",
        "import pandas as pd\n",
        "\n",
        "data = [10, 20, 30, 40, 50]\n",
        "df = pd.DataFrame(data, columns=['Scores'])\n",
        "\n",
        "# Descriptive statistics\n",
        "df.describe()\n",
        "\n",
        "Inferential Statistics:\n",
        "Inferential statistics make predictions or inferences about a population based on a sample of data.\n",
        "\n",
        "Examples:\n",
        "\n",
        " - Hypothesis testing\n",
        "\n",
        " - Confidence intervals\n",
        "\n",
        " - Regression analysis\n",
        "\n",
        "Example in Python (t-test):\n",
        "\n",
        "from scipy import stats\n",
        "\n",
        "sample1 = [12, 14, 15, 16, 14]\n",
        "\n",
        "sample2 = [13, 13, 14, 15, 17]\n",
        "\n",
        "t_stat, p_value = stats.ttest_ind(sample1, sample2)\n",
        "\n",
        "t_stat, p_value\n",
        "\n",
        "##✅  Question 2: What is sampling in statistics? Explain the differences between random and stratified sampling.\n",
        "##Answer:\n",
        "###What is Sampling?\n",
        "Sampling is the process of selecting a subset of individuals from a population to estimate characteristics of the whole population.\n",
        "\n",
        "###Random Sampling:\n",
        "\n",
        "Each individual has an equal chance of being selected.\n",
        "\n",
        "Example:\n",
        "Selecting 10 students randomly from a class of 100.\n",
        "\n",
        "import random\n",
        "\n",
        "students = list(range(1, 101))\n",
        "\n",
        "random.sample(students, 10)\n",
        "\n",
        "###Stratified Sampling:\n",
        "Population is divided into strata (groups) and random samples are taken from each group.\n",
        "\n",
        "Example:\n",
        "\n",
        "In a school, divide by grade (e.g., Grade 10, 11, 12) and randomly select from each grade.\n",
        "\n",
        "import pandas as pd\n",
        "\n",
        "## Simulated data\n",
        "data = pd.DataFrame({\n",
        "    'StudentID': range(1, 21),\n",
        "    'Grade': ['10'] * 7 + ['11'] * 7 + ['12'] * 6\n",
        "})\n",
        "\n",
        "## Stratified sampling: pick 2 students from each grade\n",
        "stratified_sample = data.groupby('Grade').sample(n=2, random_state=1)\n",
        "\n",
        "stratified_sample\n",
        "##✅ Question 3: Define mean, median, and mode. Explain why these measures of central tendency are important.\n",
        "##Answer:\n",
        "###Mean:\n",
        "The average value of the dataset.\n",
        "\n",
        "import numpy as np\n",
        "\n",
        "data = [2, 4, 4, 4, 5, 5, 7, 9]\n",
        "np.mean(data)\n",
        "###Median:\n",
        "The middle value when the data is sorted.\n",
        "\n",
        "np.median(data)\n",
        "###Mode:\n",
        "The most frequently occurring value.\n",
        "\n",
        "from scipy import stats\n",
        "\n",
        "stats.mode(data, keepdims=True).mode[0]\n",
        "###Importance:\n",
        " - They help understand the center or typical value in a dataset.\n",
        "\n",
        " - Useful for comparing different datasets.\n",
        "\n",
        " - Median is helpful in skewed distributions.\n",
        "\n",
        " - Mode is useful for categorical data.\n",
        "##✅Question 4: Explain skewness and kurtosis. What does a positive skew imply about the data?\n",
        "##Answer:\n",
        "###Skewness:\n",
        "Measures the asymmetry of the data distribution.\n",
        "\n",
        " - Positive Skew (Right Skew): Tail is longer on the right side.\n",
        "\n",
        " - Negative Skew (Left Skew): Tail is longer on the left side.\n",
        "\n",
        "import pandas as pd\n",
        "\n",
        "data = pd.Series([1, 2, 2, 3, 4, 10])  # positively skewed\n",
        "data.skew()\n",
        "###Interpretation:\n",
        "If skewness > 0, the data is positively skewed.\n",
        "\n",
        "###Kurtosis:\n",
        "Measures the tailedness of the distribution.\n",
        "\n",
        " - High kurtosis: More outliers (heavy tails)\n",
        "\n",
        " - Low kurtosis: Fewer outliers (light tails)\n",
        "\n",
        " data.kurt()\n",
        "###Summary:\n",
        "\n",
        " - Positive skew implies most values are concentrated on the left with a long tail on the right.\n",
        "\n",
        " - It affects the mean (mean > median).\n",
        "##✅ Question 5: Implement a Python program to compute the mean, median, and mode of a given list of numbers.\n",
        "\n",
        "**Given List:**\n",
        "```python\n",
        "numbers = [12, 15, 12, 18, 19, 12, 20, 22, 19, 19, 24, 24, 24, 26, 28]\n",
        "\n",
        "(Include your Python code and output in the code box below.)\n",
        "\n",
        "##Answer:\n",
        "###Python Code & Output :"
      ],
      "metadata": {
        "id": "pCuNAlOg2vl6"
      }
    },
    {
      "cell_type": "code",
      "source": [
        "import numpy as np\n",
        "from scipy import stats\n",
        "\n",
        "numbers = [12, 15, 12, 18, 19, 12, 20, 22, 19, 19, 24, 24, 24, 26, 28]\n",
        "\n",
        "# Mean\n",
        "mean_value = np.mean(numbers)\n",
        "\n",
        "# Median\n",
        "median_value = np.median(numbers)\n",
        "\n",
        "# Mode\n",
        "mode_value = stats.mode(numbers, keepdims=True).mode[0]\n",
        "\n",
        "# Displaying the results\n",
        "print(\"Mean:\", mean_value)\n",
        "print(\"Median:\", median_value)\n",
        "print(\"Mode:\", mode_value)\n"
      ],
      "metadata": {
        "colab": {
          "base_uri": "https://localhost:8080/"
        },
        "id": "AHEqpeei-9Do",
        "outputId": "1ec6577d-8074-441b-c9f5-10b871603a44"
      },
      "execution_count": 1,
      "outputs": [
        {
          "output_type": "stream",
          "name": "stdout",
          "text": [
            "Mean: 19.6\n",
            "Median: 19.0\n",
            "Mode: 12\n"
          ]
        }
      ]
    },
    {
      "cell_type": "markdown",
      "source": [
        "Explanation:\n",
        "\n",
        " -  Mean is the average: sum of all numbers divided by count.\n",
        "\n",
        " - Median is the middle value when sorted.\n",
        "\n",
        " - Mode is the most frequent value (12 appears 3 times)."
      ],
      "metadata": {
        "id": "BaGl10Yo_nZp"
      }
    },
    {
      "cell_type": "markdown",
      "source": [
        "## ✅ Question 6: Compute the covariance and correlation coefficient between the following datasets\n",
        "\n",
        "### Given Lists:\n",
        "```python\n",
        "list_x = [10, 20, 30, 40, 50]\n",
        "list_y = [15, 25, 35, 45, 60]\n",
        "\n",
        "(Include your Python code and output in the code box below.)\n",
        "\n",
        "##Answer:\n",
        "###Python Code & Output :"
      ],
      "metadata": {
        "id": "0NSTE-BuAJD8"
      }
    },
    {
      "cell_type": "code",
      "source": [
        "import numpy as np\n",
        "\n",
        "list_x = [10, 20, 30, 40, 50]\n",
        "list_y = [15, 25, 35, 45, 60]\n",
        "\n",
        "# Covariance matrix\n",
        "cov_matrix = np.cov(list_x, list_y, ddof=1)\n",
        "covariance = cov_matrix[0, 1]\n",
        "\n",
        "# Correlation coefficient matrix\n",
        "corr_matrix = np.corrcoef(list_x, list_y)\n",
        "correlation = corr_matrix[0, 1]\n",
        "\n",
        "# Display results\n",
        "print(\"Covariance:\", covariance)\n",
        "print(\"Correlation Coefficient:\", correlation)\n"
      ],
      "metadata": {
        "colab": {
          "base_uri": "https://localhost:8080/"
        },
        "id": "CS8BeepZA3Ns",
        "outputId": "6e4b3f78-04f7-44d1-f1a9-36b0c50ef581"
      },
      "execution_count": 2,
      "outputs": [
        {
          "output_type": "stream",
          "name": "stdout",
          "text": [
            "Covariance: 275.0\n",
            "Correlation Coefficient: 0.995893206467704\n"
          ]
        }
      ]
    },
    {
      "cell_type": "markdown",
      "source": [
        "Explanation:\n",
        " - Covariance tells how two variables vary together (positive means they increase together).\n",
        "\n",
        " - Correlation Coefficient (r) measures the strength and direction of the linear relationship:\n",
        "\n",
        "    - +1 → perfect positive correlation\n",
        "\n",
        "    - 0 → no correlation\n",
        "\n",
        "   - −1 → perfect negative correlation"
      ],
      "metadata": {
        "id": "guLE6NFmBC9r"
      }
    },
    {
      "cell_type": "markdown",
      "source": [
        "## ✅ Question 7: Draw a boxplot and identify outliers\n",
        "\n",
        "### Given Data:\n",
        "```python\n",
        "data = [12, 14, 14, 15, 18, 19, 19, 21, 22, 22, 23, 23, 24, 26, 29, 35]\n",
        "\n",
        "(Include your Python code and output in the code box below.)\n",
        "##Answer:\n",
        "###Python Code & Output :"
      ],
      "metadata": {
        "id": "MZJU7uN5BS-n"
      }
    },
    {
      "cell_type": "code",
      "source": [
        "import matplotlib.pyplot as plt\n",
        "import numpy as np\n",
        "\n",
        "data = [12, 14, 14, 15, 18, 19, 19, 21, 22, 22, 23, 23, 24, 26, 29, 35]\n",
        "\n",
        "# Create boxplot\n",
        "plt.boxplot(data, vert=False)\n",
        "plt.title(\"Boxplot of Given Data\")\n",
        "plt.xlabel(\"Values\")\n",
        "plt.grid(True)\n",
        "plt.show()\n",
        "\n",
        "# Identifying outliers manually using IQR method\n",
        "Q1 = np.percentile(data, 25)\n",
        "Q3 = np.percentile(data, 75)\n",
        "IQR = Q3 - Q1\n",
        "lower_bound = Q1 - 1.5 * IQR\n",
        "upper_bound = Q3 + 1.5 * IQR\n",
        "\n",
        "outliers = [x for x in data if x < lower_bound or x > upper_bound]\n",
        "\n",
        "print(\"Q1 (25th percentile):\", Q1)\n",
        "print(\"Q3 (75th percentile):\", Q3)\n",
        "print(\"IQR (Q3 - Q1):\", IQR)\n",
        "print(\"Lower bound:\", lower_bound)\n",
        "print(\"Upper bound:\", upper_bound)\n",
        "print(\"Outliers:\", outliers)\n"
      ],
      "metadata": {
        "colab": {
          "base_uri": "https://localhost:8080/",
          "height": 576
        },
        "id": "p6Q8LQXuB8Ru",
        "outputId": "096f5668-f885-46f5-e129-4ee7b01a2209"
      },
      "execution_count": 3,
      "outputs": [
        {
          "output_type": "display_data",
          "data": {
            "text/plain": [
              "<Figure size 640x480 with 1 Axes>"
            ],
            "image/png": "[encoded data removed]"
          },
          "metadata": {}
        },
        {
          "output_type": "stream",
          "name": "stdout",
          "text": [
            "Q1 (25th percentile): 17.25\n",
            "Q3 (75th percentile): 23.25\n",
            "IQR (Q3 - Q1): 6.0\n",
            "Lower bound: 8.25\n",
            "Upper bound: 32.25\n",
            "Outliers: [35]\n"
          ]
        }
      ]
    },
    {
      "cell_type": "markdown",
      "source": [
        "Explanation:\n",
        " - The boxplot graphically shows the data's median, quartiles, and outliers.\n",
        "\n",
        " - Outliers are values lying outside the bounds:\n",
        "\n",
        "      - Lower Bound: Q1 − 1.5 × IQR\n",
        "\n",
        "      - Upper Bound: Q3 + 1.5 × IQR\n",
        "\n",
        " - In this dataset, 35 is identified as an outlier because it exceeds the upper bound."
      ],
      "metadata": {
        "id": "X4UjDU_vCP2G"
      }
    },
    {
      "cell_type": "markdown",
      "source": [
        "## ✅ Question 8: You are working as a data analyst in an e-commerce company.\n",
        "The marketing team wants to know if there is a relationship between advertising spend and\n",
        "daily sales.\n",
        " -  Explain how you would use covariance and correlation to explore this\n",
        "relationship.\n",
        " -  Write Python code to compute the correlation between the two lists:\n",
        "advertising_spend = [200, 250, 300, 400, 500]\n",
        "daily_sales = [2200, 2450, 2750, 3200, 4000]\n",
        "(Include your Python code and output)\n",
        "##Answer:\n",
        "### 🔍 How to Use Covariance and Correlation:\n",
        "\n",
        "- **Covariance** helps determine whether two variables increase or decrease together.\n",
        "  - If positive: Both variables tend to increase together.\n",
        "  - If negative: When one increases, the other tends to decrease.\n",
        "  - **Limitation**: It does not tell how strong the relationship is.\n",
        "\n",
        "- **Correlation Coefficient (Pearson r)** tells us:\n",
        "  - The **strength and direction** of the linear relationship.\n",
        "  - Value ranges from **−1 to +1**:\n",
        "    - `+1` → perfect positive correlation\n",
        "    - `0` → no linear correlation\n",
        "    - `−1` → perfect negative correlation\n",
        "\n",
        "---\n",
        "###Python Code & Output :\n"
      ],
      "metadata": {
        "id": "ryPeJctCClHF"
      }
    },
    {
      "cell_type": "code",
      "source": [
        "advertising_spend = [200, 250, 300, 400, 500]\n",
        "daily_sales = [2200, 2450, 2750, 3200, 4000]\n",
        "cov_matrix = np.cov(advertising_spend, daily_sales, ddof=1)\n",
        "covariance = cov_matrix[0, 1]\n",
        "corr_matrix = np.corrcoef(advertising_spend, daily_sales)\n",
        "correlation = corr_matrix[0, 1]\n",
        "print(\"Covariance:\", covariance)\n",
        "print(\"Correlation Coefficient:\", correlation)"
      ],
      "metadata": {
        "colab": {
          "base_uri": "https://localhost:8080/"
        },
        "id": "YOxHhmHqEKTt",
        "outputId": "8125ac60-b477-414c-b869-297ab4a2f657"
      },
      "execution_count": 18,
      "outputs": [
        {
          "output_type": "stream",
          "name": "stdout",
          "text": [
            "Covariance: 84875.0\n",
            "Correlation Coefficient: 0.9935824101653329\n"
          ]
        }
      ]
    },
    {
      "cell_type": "markdown",
      "source": [
        "📈 Interpretation:\n",
        " - Covariance = 84875.0 → Positive relationship; as advertising spend increases, daily sales also increase.\n",
        "\n",
        " - Correlation ≈ 0.993 → Very strong positive linear relationship between advertising spend and daily sales.\n",
        "\n",
        "This suggests that higher advertising spend is highly associated with higher daily sales — useful insight for the marketing team to optimize their budget."
      ],
      "metadata": {
        "id": "3_TBIvXbIMWi"
      }
    },
    {
      "cell_type": "markdown",
      "source": [
        "## ✅ Question 9: Your team has collected customer satisfaction survey data on a scale of 1-10 and wants to understand its distribution before launching a new product.\n",
        " - Explain which summary statistics and visualizations (e.g. mean, standard\n",
        "deviation, histogram) you’d use.\n",
        " - Write Python code to create a histogram using Matplotlib for the survey data:\n",
        "\n",
        "survey_scores = [7, 8, 5, 9, 6, 7, 8, 9, 10, 4, 7, 6, 9, 8, 7]\n",
        "\n",
        "(Include your Python code and output in the code box below.)\n",
        "##Answer:  \n",
        "###Understanding Customer Satisfaction Survey Data\n",
        "\n",
        "### 🧠 Scenario:\n",
        "Your team has collected customer satisfaction data (scale 1–10) and wants to understand its **distribution** before launching a new product.\n",
        "\n",
        "---\n",
        "\n",
        "### 📊 Summary Statistics and Visualizations to Use:\n",
        "\n",
        "To understand the distribution, use the following:\n",
        "\n",
        "1. **Mean** – Average score  \n",
        "2. **Median** – Middle value when data is sorted  \n",
        "3. **Mode** – Most frequently occurring score  \n",
        "4. **Standard Deviation** – Spread or variability in scores  \n",
        "5. **Histogram** – Visualize the frequency distribution  \n",
        "6. **Boxplot** *(optional)* – Check for outliers and distribution shape\n",
        "\n",
        "These tools help assess **central tendency**, **spread**, and **distribution shape**, which is essential for product readiness.\n",
        "\n",
        "---    \n",
        "###Python Code & Output :"
      ],
      "metadata": {
        "id": "lxq7AgT5JHER"
      }
    },
    {
      "cell_type": "code",
      "source": [
        "\n",
        "import numpy as np\n",
        "import matplotlib.pyplot as plt\n",
        "from scipy import stats\n",
        "\n",
        "# Survey data\n",
        "survey_scores = [7, 8, 5, 9, 6, 7, 8, 9, 10, 4, 7, 6, 9, 8, 7]\n",
        "\n",
        "# Summary statistics\n",
        "mean = np.mean(survey_scores)\n",
        "median = np.median(survey_scores)\n",
        "mode = stats.mode(survey_scores, keepdims=True).mode[0]\n",
        "std_dev = np.std(survey_scores)\n",
        "\n",
        "# Print statistics\n",
        "print(\"Mean:\", mean)\n",
        "print(\"Median:\", median)\n",
        "print(\"Mode:\", mode)\n",
        "print(\"Standard Deviation:\", std_dev)\n",
        "\n",
        "# Plot histogram\n",
        "plt.hist(survey_scores, bins=7, edgecolor='black')\n",
        "plt.title(\"Customer Satisfaction Survey Distribution\")\n",
        "plt.xlabel(\"Survey Score (1–10)\")\n",
        "plt.ylabel(\"Frequency\")\n",
        "plt.grid(True)\n",
        "plt.show()\n"
      ],
      "metadata": {
        "colab": {
          "base_uri": "https://localhost:8080/",
          "height": 541
        },
        "id": "ccVAlnhPLdLf",
        "outputId": "72edad11-c5d3-44e9-b844-6e66b225e87d"
      },
      "execution_count": 20,
      "outputs": [
        {
          "output_type": "stream",
          "name": "stdout",
          "text": [
            "Mean: 7.333333333333333\n",
            "Median: 7.0\n",
            "Mode: 7\n",
            "Standard Deviation: 1.577621275493231\n"
          ]
        },
        {
          "output_type": "display_data",
          "data": {
            "text/plain": [
              "<Figure size 640x480 with 1 Axes>"
            ],
            "image/png": "[encoded data removed]"
          },
          "metadata": {}
        }
      ]
    },
    {
      "cell_type": "markdown",
      "source": [
        "📈 Histogram will display the frequency of scores across bins (ranges of values).\n",
        "\n",
        "🔍 Interpretation:\n",
        " - Mean ≈ 7.33 → On average, customers are quite satisfied.\n",
        "\n",
        " - Mode = 7 → Most customers gave a score of 7.\n",
        "\n",
        " - Standard Deviation ≈ 1.57 → Responses are moderately spread around the mean.\n",
        "\n",
        " - Histogram shows whether the data is skewed or symmetric — useful for deciding readiness for product launch.\n",
        "##✅ End of All Question's Answers - Thank You . 🙏"
      ],
      "metadata": {
        "id": "EZ8Q_GTaL0yM"
      }
    }
  ]
}